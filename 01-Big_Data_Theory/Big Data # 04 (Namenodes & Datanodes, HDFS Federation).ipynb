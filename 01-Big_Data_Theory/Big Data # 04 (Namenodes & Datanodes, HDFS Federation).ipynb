{
 "cells": [
  {
   "cell_type": "markdown",
   "metadata": {},
   "source": [
    "## HDFS (Namenodes & Datanodes):\n",
    "\n",
    "Namenode keeps record of __what is where?__, __Data inside the RAM__, and maintains __Metadata__, while __Datanode__ actually stores the data.\n",
    "\n",
    "#### HDFS  Design:\n",
    "\n",
    "* very large files\n",
    "* streaming data acces\n",
    "* commodity hardware\n",
    "\n",
    "#### HDFS Limitations:\n",
    "\n",
    "* low latency data access\n",
    "* not very good for lots of small files\n",
    "\n",
    "#### HDFS Blocks:\n",
    "\n",
    "* files are split int chunks of 128MB blocks and stored on multiple machines\n",
    "* each block has multiple copies called the __Replication Factor__, default is 3.\n",
    "* No two copies are on the same data node. The lost blocks are copied to other nodes\n",
    "* we can increase the replication factor for important files and vice-versa\n",
    "* the HDFS Driver splits the data, requests for the file to __Namenode__ and once it gets the required information it access the __Actual Data__. The first call goest to __Namenode__ and then we can directly read and write into __Datanode__.\n",
    "\n",
    "Basically, metadata is kept into the memory, and manually we put the copy of metadata onto the disk i.e whatever is in metadata we save it to the disk also called __namespace image__.\n",
    "\n",
    "**Namenode** basically allows us to store the data on two places, original data and data logs, in case we lose our data, we can still recover it using data logs generated in disk.\n",
    "\n",
    "We install multiple __Namenodes__ on our machine so that if one malfunctions, the other can give its's services. Namenodes communicate with each other using __ZooKeeper__. On a particular point of time, only one __Namenode__ is active, all the others are in stand-by. The stand-by namenodes keep on communicating with ZooKeeper, in order to see if the existing namenode is working fine. All the __namenodes__ have same data."
   ]
  },
  {
   "cell_type": "markdown",
   "metadata": {},
   "source": [
    "## HDFS Federation:\n",
    "\n",
    "In case we reached to a situation where one __namenode__ isn't able to server properly, and what we do is we have two __namenodes__. And may be there is also a stand-by for both the namenodes. These namenodes share the same __datanodes__ to store the data. Both namenodes will have a file system, that would be different from each other. The __datanode__ keeps track of which block came from which namenode.\n",
    "\n",
    "That's how the __HDFS Federation__ solves the problem of namenodes being running out of the memory, cuz if one namenode is full, the metadata doesn't come anymore!\n",
    "\n",
    "Also, at the Client-end library, we create the __mount tables__ where we set the configuration that request to a particular directory goes to a particular __namenode__.\n",
    "\n",
    "The __Load Balancing__ and distribution of work happens based on which folder we are accessing and are trying to write to??"
   ]
  },
  {
   "cell_type": "markdown",
   "metadata": {},
   "source": [
    "## Namenode Metadata:\n",
    "\n",
    "The whole metadata is in main memory. Following are the types of metadata:\n",
    "1. List of files\n",
    "2. List of blocks for each file\n",
    "3. List of Datanode for each file\n",
    "4. File attributes, e.g access time, replication factor, file size, file name etc.\n",
    "\n",
    "A _Transaction log_ or _edit log_ keeps record of files creation and files deletion."
   ]
  },
  {
   "cell_type": "code",
   "execution_count": null,
   "metadata": {},
   "outputs": [],
   "source": []
  }
 ],
 "metadata": {
  "kernelspec": {
   "display_name": "Python 3",
   "language": "python",
   "name": "python3"
  },
  "language_info": {
   "codemirror_mode": {
    "name": "ipython",
    "version": 3
   },
   "file_extension": ".py",
   "mimetype": "text/x-python",
   "name": "python",
   "nbconvert_exporter": "python",
   "pygments_lexer": "ipython3",
   "version": "3.7.3"
  }
 },
 "nbformat": 4,
 "nbformat_minor": 2
}
